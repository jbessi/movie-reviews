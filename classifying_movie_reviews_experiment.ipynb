{
 "cells": [
  {
   "cell_type": "code",
   "execution_count": 1,
   "metadata": {},
   "outputs": [
    {
     "name": "stderr",
     "output_type": "stream",
     "text": [
      "Using TensorFlow backend.\n"
     ]
    }
   ],
   "source": [
    "from keras.datasets import imdb\n",
    "(train_data, train_labels), (test_data, test_labels) = imdb.load_data(num_words=10000) #importing and defining train and test data"
   ]
  },
  {
   "cell_type": "code",
   "execution_count": 2,
   "metadata": {},
   "outputs": [],
   "source": [
    "#decode the reviews back into english words\n",
    "word_index = imdb.get_word_index() #dictionnary mapping words to an integer index\n",
    "reverse_word_index = dict([(value, key) for (key, value) in word_index.items()]) #reverses the dictionnary above, i.e. mapping integers to words\n",
    "def decoded(x): #decoding function for the review x\n",
    "    print(' '.join([reverse_word_index.get(i-3,'?') for i in train_data[x]])) #decodes the review, i-3 not entirely clear!\n",
    "    return"
   ]
  },
  {
   "cell_type": "code",
   "execution_count": 3,
   "metadata": {},
   "outputs": [
    {
     "name": "stdout",
     "output_type": "stream",
     "text": [
      "? this film was just brilliant casting location scenery story direction everyone's really suited the part they played and you could just imagine being there robert ? is an amazing actor and now the same being director ? father came from the same scottish island as myself so i loved the fact there was a real connection with this film the witty remarks throughout the film were great it was just brilliant so much that i bought the film as soon as it was released for ? and would recommend it to everyone to watch and the fly fishing was amazing really cried at the end it was so sad and you know what they say if you cry at a film it must have been good and this definitely was also ? to the two little boy's that played the ? of norman and paul they were just brilliant children are often left out of the ? list i think because the stars that play them all grown up are such a big profile for the whole film but these children are amazing and should be praised for what they have done don't you think the whole story was so lovely because it was true and was someone's life after all that was shared with us all\n"
     ]
    }
   ],
   "source": [
    "reverse_word_index[train_data[0][0]]\n",
    "decoded(0)"
   ]
  },
  {
   "cell_type": "code",
   "execution_count": 4,
   "metadata": {},
   "outputs": [],
   "source": [
    "#Preparing our data for a neural network, i.e. convert into tensors\n",
    "import numpy as np\n",
    "def vectorize_sequences(sequences, dimension=10000): #not entirely clear!\n",
    "    results = np.zeros((len(sequences), dimension)) #all zero matrix of shape(len(sequences),dimension)\n",
    "    for i, sequence in enumerate(sequences):\n",
    "        results[i, sequence] = 1. #set specific indices of results[i] to 1\n",
    "    return results\n",
    "\n",
    "#vectorize labels\n",
    "x_train = vectorize_sequences(train_data) #vectorized training data\n",
    "x_test = vectorize_sequences(test_data) #vectorized test data\n",
    "\n",
    "#vectorize labels\n",
    "y_train = np.asarray(train_labels).astype('float32') #vectorized training labels\n",
    "y_test = np.asarray(test_labels).astype('float32') #vectorized test labels"
   ]
  },
  {
   "cell_type": "code",
   "execution_count": 18,
   "metadata": {},
   "outputs": [],
   "source": [
    "#defining the model\n",
    "#not entirely clear, but will be explained later\n",
    "from tensorflow.keras import models #without writing tensorflow. an error occurs!\n",
    "from tensorflow.keras import layers #without writing tensorflow. an error occurs!\n",
    "\n",
    "model = models.Sequential()\n",
    "model.add(layers.Dense(64, activation='relu', input_shape=(10000,)))\n",
    "model.add(layers.Dense(64, activation='relu'))\n",
    "model.add(layers.Dense(1, activation='sigmoid'))"
   ]
  },
  {
   "cell_type": "code",
   "execution_count": 19,
   "metadata": {},
   "outputs": [],
   "source": [
    "#setting aside a validation set\n",
    "x_val = x_train[:10000]\n",
    "partial_x_train = x_train[10000:]\n",
    "y_val = y_train[:10000]\n",
    "partial_y_train = y_train[10000:]"
   ]
  },
  {
   "cell_type": "code",
   "execution_count": 20,
   "metadata": {},
   "outputs": [
    {
     "name": "stdout",
     "output_type": "stream",
     "text": [
      "Train on 15000 samples, validate on 10000 samples\n",
      "Epoch 1/20\n",
      "15000/15000 [==============================] - 3s 191us/sample - loss: 0.4861 - acc: 0.7653 - val_loss: 0.3225 - val_acc: 0.8821\n",
      "Epoch 2/20\n",
      "15000/15000 [==============================] - 3s 175us/sample - loss: 0.2608 - acc: 0.9050 - val_loss: 0.2781 - val_acc: 0.8899\n",
      "Epoch 3/20\n",
      "15000/15000 [==============================] - 3s 173us/sample - loss: 0.1826 - acc: 0.9329 - val_loss: 0.3147 - val_acc: 0.8726\n",
      "Epoch 4/20\n",
      "15000/15000 [==============================] - 3s 174us/sample - loss: 0.1382 - acc: 0.9532 - val_loss: 0.2982 - val_acc: 0.8873\n",
      "Epoch 5/20\n",
      "15000/15000 [==============================] - 3s 188us/sample - loss: 0.1078 - acc: 0.9629 - val_loss: 0.3219 - val_acc: 0.8837\n",
      "Epoch 6/20\n",
      "15000/15000 [==============================] - 3s 176us/sample - loss: 0.0717 - acc: 0.9768 - val_loss: 0.3617 - val_acc: 0.8786\n",
      "Epoch 7/20\n",
      "15000/15000 [==============================] - 3s 176us/sample - loss: 0.0546 - acc: 0.9832 - val_loss: 0.3867 - val_acc: 0.8796\n",
      "Epoch 8/20\n",
      "15000/15000 [==============================] - 3s 201us/sample - loss: 0.0450 - acc: 0.9861 - val_loss: 0.4262 - val_acc: 0.8787\n",
      "Epoch 9/20\n",
      "15000/15000 [==============================] - 4s 241us/sample - loss: 0.0377 - acc: 0.9897 - val_loss: 0.6545 - val_acc: 0.8402\n",
      "Epoch 10/20\n",
      "15000/15000 [==============================] - 3s 214us/sample - loss: 0.0115 - acc: 0.9980 - val_loss: 0.5105 - val_acc: 0.8793\n",
      "Epoch 11/20\n",
      "15000/15000 [==============================] - 3s 185us/sample - loss: 0.0395 - acc: 0.9887 - val_loss: 0.5256 - val_acc: 0.8752\n",
      "Epoch 12/20\n",
      "15000/15000 [==============================] - 3s 222us/sample - loss: 0.0040 - acc: 0.9999 - val_loss: 0.5675 - val_acc: 0.8774\n",
      "Epoch 13/20\n",
      "15000/15000 [==============================] - 3s 184us/sample - loss: 0.0024 - acc: 0.9999 - val_loss: 0.6404 - val_acc: 0.8725\n",
      "Epoch 14/20\n",
      "15000/15000 [==============================] - 3s 183us/sample - loss: 0.0517 - acc: 0.9897 - val_loss: 0.6688 - val_acc: 0.8726\n",
      "Epoch 15/20\n",
      "15000/15000 [==============================] - 3s 204us/sample - loss: 8.9289e-04 - acc: 1.0000 - val_loss: 0.6954 - val_acc: 0.8727\n",
      "Epoch 16/20\n",
      "15000/15000 [==============================] - 3s 197us/sample - loss: 6.1737e-04 - acc: 1.0000 - val_loss: 0.7418 - val_acc: 0.8714\n",
      "Epoch 17/20\n",
      "15000/15000 [==============================] - 2s 161us/sample - loss: 3.9387e-04 - acc: 1.0000 - val_loss: 0.8058 - val_acc: 0.8722\n",
      "Epoch 18/20\n",
      "15000/15000 [==============================] - 2s 163us/sample - loss: 0.0359 - acc: 0.9915 - val_loss: 0.8460 - val_acc: 0.8694\n",
      "Epoch 19/20\n",
      "15000/15000 [==============================] - 3s 169us/sample - loss: 2.3195e-04 - acc: 1.0000 - val_loss: 0.8495 - val_acc: 0.8700\n",
      "Epoch 20/20\n",
      "15000/15000 [==============================] - 3s 173us/sample - loss: 1.4012e-04 - acc: 1.0000 - val_loss: 0.8796 - val_acc: 0.8700\n"
     ]
    }
   ],
   "source": [
    "#training the model\n",
    "#not entirely clear\n",
    "model.compile(optimizer='rmsprop', loss='binary_crossentropy', metrics=['acc'])\n",
    "history = model.fit(partial_x_train, partial_y_train, epochs=20, batch_size=512, validation_data=(x_val, y_val))"
   ]
  },
  {
   "cell_type": "code",
   "execution_count": 21,
   "metadata": {},
   "outputs": [
    {
     "data": {
      "text/plain": [
       "dict_keys(['loss', 'acc', 'val_loss', 'val_acc'])"
      ]
     },
     "execution_count": 21,
     "metadata": {},
     "output_type": "execute_result"
    }
   ],
   "source": [
    "history_dict = history.history\n",
    "history_dict.keys()"
   ]
  },
  {
   "cell_type": "code",
   "execution_count": 22,
   "metadata": {},
   "outputs": [
    {
     "name": "stdout",
     "output_type": "stream",
     "text": [
      "range(1, 21)\n"
     ]
    },
    {
     "data": {
      "image/png": "[encoded data removed]",
      "text/plain": [
       "<Figure size 432x288 with 1 Axes>"
      ]
     },
     "metadata": {
      "needs_background": "light"
     },
     "output_type": "display_data"
    }
   ],
   "source": [
    "#Plotting the training and validation loss\n",
    "import matplotlib.pyplot as plt\n",
    "\n",
    "history_dict = history.history\n",
    "loss_values = history_dict['loss']\n",
    "val_loss_values = history_dict['val_loss']\n",
    "acc = history_dict['acc']\n",
    "\n",
    "epochs = range(1, len(acc) + 1)\n",
    "print(epochs)\n",
    "\n",
    "plt.plot(epochs, loss_values, 'bo', label='Training loss') #bo means blue dot\n",
    "plt.plot(epochs, val_loss_values, 'b', label='Validation loss') #b means blue line\n",
    "plt.title('Training and validation loss')\n",
    "plt.xlabel('Epochs')\n",
    "plt.ylabel('Loss')\n",
    "plt.legend()\n",
    "\n",
    "plt.show()\n"
   ]
  },
  {
   "cell_type": "code",
   "execution_count": 23,
   "metadata": {},
   "outputs": [
    {
     "data": {
      "image/png": "[encoded data removed]",
      "text/plain": [
       "<Figure size 432x288 with 1 Axes>"
      ]
     },
     "metadata": {
      "needs_background": "light"
     },
     "output_type": "display_data"
    }
   ],
   "source": [
    "#Plotting the training and validation accuracy\n",
    "plt.clf() #clearing the figure\n",
    "acc_values = history_dict['acc']\n",
    "val_acc_values = history_dict['val_acc']\n",
    "\n",
    "plt.plot(epochs, acc, 'bo', label='Training acc')\n",
    "plt.plot(epochs, val_acc_values, 'b', label='Validation acc')\n",
    "plt.title('Training and validation accuracy')\n",
    "plt.xlabel('Epochs')\n",
    "plt.ylabel('Loss')\n",
    "plt.legend()\n",
    "\n",
    "plt.show()\n"
   ]
  },
  {
   "cell_type": "code",
   "execution_count": 12,
   "metadata": {},
   "outputs": [
    {
     "name": "stdout",
     "output_type": "stream",
     "text": [
      "Epoch 1/4\n",
      "25000/25000 [==============================] - 3s 102us/sample - loss: 0.4348 - accuracy: 0.8219\n",
      "Epoch 2/4\n",
      "25000/25000 [==============================] - 3s 101us/sample - loss: 0.2523 - accuracy: 0.9100\n",
      "Epoch 3/4\n",
      "25000/25000 [==============================] - 2s 100us/sample - loss: 0.1973 - accuracy: 0.9279\n",
      "Epoch 4/4\n",
      "25000/25000 [==============================] - 3s 102us/sample - loss: 0.1646 - accuracy: 0.9403\n",
      "25000/25000 [==============================] - 3s 113us/sample - loss: 0.2951 - accuracy: 0.8845\n"
     ]
    }
   ],
   "source": [
    "#retraining the model\n",
    "\n",
    "model = models.Sequential()\n",
    "model.add(layers.Dense(16, activation='relu', input_shape=(10000,)))\n",
    "model.add(layers.Dense(16, activation='relu'))\n",
    "model.add(layers.Dense(1, activation='sigmoid'))\n",
    "\n",
    "model.compile(optimizer='rmsprop', loss='binary_crossentropy', metrics=['accuracy'])\n",
    "\n",
    "model.fit(x_train, y_train, epochs=4, batch_size=512)\n",
    "results = model.evaluate(x_test, y_test)"
   ]
  },
  {
   "cell_type": "code",
   "execution_count": 13,
   "metadata": {},
   "outputs": [
    {
     "data": {
      "text/plain": [
       "[0.28889627073287966, 0.88616]"
      ]
     },
     "execution_count": 13,
     "metadata": {},
     "output_type": "execute_result"
    }
   ],
   "source": [
    "results"
   ]
  },
  {
   "cell_type": "code",
   "execution_count": 14,
   "metadata": {},
   "outputs": [
    {
     "data": {
      "text/plain": [
       "array([[0.19026142],\n",
       "       [0.99010956],\n",
       "       [0.9190109 ],\n",
       "       ...,\n",
       "       [0.1291691 ],\n",
       "       [0.08310819],\n",
       "       [0.53571546]], dtype=float32)"
      ]
     },
     "execution_count": 14,
     "metadata": {},
     "output_type": "execute_result"
    }
   ],
   "source": [
    "model.predict(x_test)"
   ]
  },
  {
   "cell_type": "code",
   "execution_count": null,
   "metadata": {},
   "outputs": [],
   "source": []
  }
 ],
 "metadata": {
  "kernelspec": {
   "display_name": "Python 3",
   "language": "python",
   "name": "python3"
  },
  "language_info": {
   "codemirror_mode": {
    "name": "ipython",
    "version": 3
   },
   "file_extension": ".py",
   "mimetype": "text/x-python",
   "name": "python",
   "nbconvert_exporter": "python",
   "pygments_lexer": "ipython3",
   "version": "3.7.0"
  }
 },
 "nbformat": 4,
 "nbformat_minor": 2
}
