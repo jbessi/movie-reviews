{
 "cells": [
  {
   "cell_type": "code",
   "execution_count": 1,
   "metadata": {},
   "outputs": [
    {
     "name": "stderr",
     "output_type": "stream",
     "text": [
      "Using TensorFlow backend.\n"
     ]
    }
   ],
   "source": [
    "from keras.datasets import imdb\n",
    "(train_data, train_labels), (test_data, test_labels) = imdb.load_data(num_words=10000) #importing and defining train and test data"
   ]
  },
  {
   "cell_type": "code",
   "execution_count": 2,
   "metadata": {},
   "outputs": [],
   "source": [
    "#decode the reviews back into english words\n",
    "word_index = imdb.get_word_index() #dictionnary mapping words to an integer index\n",
    "reverse_word_index = dict([(value, key) for (key, value) in word_index.items()]) #reverses the dictionnary above, i.e. mapping integers to words\n",
    "def decoded(x): #decoding function for the review x\n",
    "    print(' '.join([reverse_word_index.get(i-3,'?') for i in train_data[x]])) #decodes the review, i-3 not entirely clear!\n",
    "    return"
   ]
  },
  {
   "cell_type": "code",
   "execution_count": 3,
   "metadata": {},
   "outputs": [
    {
     "name": "stdout",
     "output_type": "stream",
     "text": [
      "? this film was just brilliant casting location scenery story direction everyone's really suited the part they played and you could just imagine being there robert ? is an amazing actor and now the same being director ? father came from the same scottish island as myself so i loved the fact there was a real connection with this film the witty remarks throughout the film were great it was just brilliant so much that i bought the film as soon as it was released for ? and would recommend it to everyone to watch and the fly fishing was amazing really cried at the end it was so sad and you know what they say if you cry at a film it must have been good and this definitely was also ? to the two little boy's that played the ? of norman and paul they were just brilliant children are often left out of the ? list i think because the stars that play them all grown up are such a big profile for the whole film but these children are amazing and should be praised for what they have done don't you think the whole story was so lovely because it was true and was someone's life after all that was shared with us all\n"
     ]
    }
   ],
   "source": [
    "reverse_word_index[train_data[0][0]]\n",
    "decoded(0)"
   ]
  },
  {
   "cell_type": "code",
   "execution_count": 4,
   "metadata": {},
   "outputs": [],
   "source": [
    "#Preparing our data for a neural network, i.e. convert into tensors\n",
    "import numpy as np\n",
    "def vectorize_sequences(sequences, dimension=10000): #not entirely clear!\n",
    "    results = np.zeros((len(sequences), dimension)) #all zero matrix of shape(len(sequences),dimension)\n",
    "    for i, sequence in enumerate(sequences):\n",
    "        results[i, sequence] = 1. #set specific indices of results[i] to 1\n",
    "    return results\n",
    "\n",
    "#vectorize labels\n",
    "x_train = vectorize_sequences(train_data) #vectorized training data\n",
    "x_test = vectorize_sequences(test_data) #vectorized test data\n",
    "\n",
    "#vectorize labels\n",
    "y_train = np.asarray(train_labels).astype('float32') #vectorized training labels\n",
    "y_test = np.asarray(test_labels).astype('float32') #vectorized test labels"
   ]
  },
  {
   "cell_type": "code",
   "execution_count": 23,
   "metadata": {},
   "outputs": [
    {
     "name": "stdout",
     "output_type": "stream",
     "text": [
      "Model: \"sequential_6\"\n",
      "_________________________________________________________________\n",
      "Layer (type)                 Output Shape              Param #   \n",
      "=================================================================\n",
      "dense_18 (Dense)             (None, 16)                160016    \n",
      "_________________________________________________________________\n",
      "dense_19 (Dense)             (None, 1)                 17        \n",
      "=================================================================\n",
      "Total params: 160,033\n",
      "Trainable params: 160,033\n",
      "Non-trainable params: 0\n",
      "_________________________________________________________________\n"
     ]
    }
   ],
   "source": [
    "#defining the model\n",
    "from tensorflow.keras import models #without writing tensorflow. an error occurs!\n",
    "from tensorflow.keras import layers #without writing tensorflow. an error occurs!\n",
    "\n",
    "model = models.Sequential()\n",
    "model.add(layers.Dense(16, activation='relu', input_shape=(10000,)))\n",
    "#model.add(layers.Dense(32, activation='relu'))\n",
    "model.add(layers.Dense(1, activation='sigmoid'))\n",
    "model.summary()"
   ]
  },
  {
   "cell_type": "code",
   "execution_count": 24,
   "metadata": {},
   "outputs": [],
   "source": [
    "#setting aside a validation set\n",
    "x_val = x_train[:10000]\n",
    "partial_x_train = x_train[10000:]\n",
    "y_val = y_train[:10000]\n",
    "partial_y_train = y_train[10000:]"
   ]
  },
  {
   "cell_type": "code",
   "execution_count": 33,
   "metadata": {},
   "outputs": [
    {
     "name": "stdout",
     "output_type": "stream",
     "text": [
      "Train on 15000 samples, validate on 10000 samples\n",
      "Epoch 1/20\n",
      "15000/15000 [==============================] - 3s 167us/sample - loss: 0.0618 - acc: 0.9253 - val_loss: 0.0651 - val_acc: 0.9177\n",
      "Epoch 2/20\n",
      "15000/15000 [==============================] - 2s 153us/sample - loss: 0.0480 - acc: 0.9485 - val_loss: 0.0627 - val_acc: 0.9194\n",
      "Epoch 3/20\n",
      "15000/15000 [==============================] - 2s 150us/sample - loss: 0.0408 - acc: 0.9578 - val_loss: 0.0639 - val_acc: 0.9176\n",
      "Epoch 4/20\n",
      "15000/15000 [==============================] - 2s 148us/sample - loss: 0.0353 - acc: 0.9649 - val_loss: 0.0657 - val_acc: 0.9147\n",
      "Epoch 5/20\n",
      "15000/15000 [==============================] - 2s 145us/sample - loss: 0.0308 - acc: 0.9723 - val_loss: 0.0721 - val_acc: 0.9041\n",
      "Epoch 6/20\n",
      "15000/15000 [==============================] - 2s 146us/sample - loss: 0.0267 - acc: 0.9771 - val_loss: 0.0758 - val_acc: 0.8967\n",
      "Epoch 7/20\n",
      "15000/15000 [==============================] - 2s 146us/sample - loss: 0.0237 - acc: 0.9806 - val_loss: 0.0742 - val_acc: 0.8988\n",
      "Epoch 8/20\n",
      "15000/15000 [==============================] - 2s 147us/sample - loss: 0.0210 - acc: 0.9828 - val_loss: 0.0738 - val_acc: 0.9010\n",
      "Epoch 9/20\n",
      "15000/15000 [==============================] - 2s 147us/sample - loss: 0.0182 - acc: 0.9865 - val_loss: 0.0761 - val_acc: 0.8971\n",
      "Epoch 10/20\n",
      "15000/15000 [==============================] - 2s 147us/sample - loss: 0.0163 - acc: 0.9887 - val_loss: 0.0807 - val_acc: 0.8934\n",
      "Epoch 11/20\n",
      "15000/15000 [==============================] - 2s 151us/sample - loss: 0.0143 - acc: 0.9903 - val_loss: 0.0811 - val_acc: 0.8923\n",
      "Epoch 12/20\n",
      "15000/15000 [==============================] - 2s 158us/sample - loss: 0.0127 - acc: 0.9914 - val_loss: 0.0820 - val_acc: 0.8909\n",
      "Epoch 13/20\n",
      "15000/15000 [==============================] - 2s 156us/sample - loss: 0.0109 - acc: 0.9931 - val_loss: 0.0839 - val_acc: 0.8900\n",
      "Epoch 14/20\n",
      "15000/15000 [==============================] - 2s 148us/sample - loss: 0.0099 - acc: 0.9938 - val_loss: 0.0867 - val_acc: 0.8859\n",
      "Epoch 15/20\n",
      "15000/15000 [==============================] - 2s 149us/sample - loss: 0.0086 - acc: 0.9951 - val_loss: 0.0890 - val_acc: 0.8835\n",
      "Epoch 16/20\n",
      "15000/15000 [==============================] - 2s 155us/sample - loss: 0.0077 - acc: 0.9957 - val_loss: 0.0939 - val_acc: 0.8763\n",
      "Epoch 17/20\n",
      "15000/15000 [==============================] - 2s 149us/sample - loss: 0.0067 - acc: 0.9959 - val_loss: 0.0912 - val_acc: 0.8834\n",
      "Epoch 18/20\n",
      "15000/15000 [==============================] - 3s 170us/sample - loss: 0.0060 - acc: 0.9966 - val_loss: 0.0928 - val_acc: 0.8825\n",
      "Epoch 19/20\n",
      "15000/15000 [==============================] - 2s 148us/sample - loss: 0.0056 - acc: 0.9968 - val_loss: 0.0978 - val_acc: 0.8746\n",
      "Epoch 20/20\n",
      "15000/15000 [==============================] - 2s 151us/sample - loss: 0.0047 - acc: 0.9973 - val_loss: 0.0958 - val_acc: 0.8799\n"
     ]
    }
   ],
   "source": [
    "#training the model\n",
    "#not entirely clear\n",
    "model.compile(optimizer='rmsprop', loss='mse', metrics=['acc'])\n",
    "history = model.fit(partial_x_train, partial_y_train, epochs=20, batch_size=512, validation_data=(x_val, y_val))"
   ]
  },
  {
   "cell_type": "code",
   "execution_count": 34,
   "metadata": {},
   "outputs": [
    {
     "data": {
      "text/plain": [
       "dict_keys(['loss', 'acc', 'val_loss', 'val_acc'])"
      ]
     },
     "execution_count": 34,
     "metadata": {},
     "output_type": "execute_result"
    }
   ],
   "source": [
    "history_dict = history.history\n",
    "history_dict.keys()"
   ]
  },
  {
   "cell_type": "code",
   "execution_count": 35,
   "metadata": {},
   "outputs": [
    {
     "name": "stdout",
     "output_type": "stream",
     "text": [
      "range(1, 21)\n"
     ]
    },
    {
     "data": {
      "image/png": "[encoded data removed]",
      "text/plain": [
       "<Figure size 432x288 with 1 Axes>"
      ]
     },
     "metadata": {
      "needs_background": "light"
     },
     "output_type": "display_data"
    }
   ],
   "source": [
    "#Plotting the training and validation loss\n",
    "import matplotlib.pyplot as plt\n",
    "\n",
    "history_dict = history.history\n",
    "loss_values = history_dict['loss']\n",
    "val_loss_values = history_dict['val_loss']\n",
    "acc = history_dict['acc']\n",
    "\n",
    "epochs = range(1, len(acc) + 1)\n",
    "print(epochs)\n",
    "\n",
    "plt.plot(epochs, loss_values, 'bo', label='Training loss') #bo means blue dot\n",
    "plt.plot(epochs, val_loss_values, 'b', label='Validation loss') #b means blue line\n",
    "plt.title('Training and validation loss')\n",
    "plt.xlabel('Epochs')\n",
    "plt.ylabel('Loss')\n",
    "plt.legend()\n",
    "\n",
    "plt.show()\n"
   ]
  },
  {
   "cell_type": "code",
   "execution_count": 36,
   "metadata": {},
   "outputs": [
    {
     "data": {
      "image/png": "[encoded data removed]",
      "text/plain": [
       "<Figure size 432x288 with 1 Axes>"
      ]
     },
     "metadata": {
      "needs_background": "light"
     },
     "output_type": "display_data"
    }
   ],
   "source": [
    "#Plotting the training and validation accuracy\n",
    "plt.clf() #clearing the figure\n",
    "acc_values = history_dict['acc']\n",
    "val_acc_values = history_dict['val_acc']\n",
    "\n",
    "plt.plot(epochs, acc, 'bo', label='Training acc')\n",
    "plt.plot(epochs, val_acc_values, 'b', label='Validation acc')\n",
    "plt.title('Training and validation accuracy')\n",
    "plt.xlabel('Epochs')\n",
    "plt.ylabel('Loss')\n",
    "plt.legend()\n",
    "\n",
    "plt.show()\n"
   ]
  },
  {
   "cell_type": "code",
   "execution_count": 37,
   "metadata": {},
   "outputs": [
    {
     "name": "stdout",
     "output_type": "stream",
     "text": [
      "Epoch 1/2\n",
      "25000/25000 [==============================] - 2s 100us/sample - loss: 0.1530 - accuracy: 0.8210\n",
      "Epoch 2/2\n",
      "25000/25000 [==============================] - 2s 97us/sample - loss: 0.0858 - accuracy: 0.9103\n",
      "25000/25000 [==============================] - 2s 87us/sample - loss: 0.0923 - accuracy: 0.8889\n"
     ]
    }
   ],
   "source": [
    "#retraining the model\n",
    "\n",
    "model = models.Sequential()\n",
    "model.add(layers.Dense(16, activation='relu', input_shape=(10000,)))\n",
    "#model.add(layers.Dense(32, activation='relu'))\n",
    "model.add(layers.Dense(1, activation='sigmoid'))\n",
    "\n",
    "model.compile(optimizer='rmsprop', loss='mse', metrics=['accuracy'])\n",
    "\n",
    "model.fit(x_train, y_train, epochs=2, batch_size=512)\n",
    "results = model.evaluate(x_test, y_test)"
   ]
  },
  {
   "cell_type": "code",
   "execution_count": 38,
   "metadata": {},
   "outputs": [
    {
     "data": {
      "text/plain": [
       "[0.09231415191411972, 0.88892]"
      ]
     },
     "execution_count": 38,
     "metadata": {},
     "output_type": "execute_result"
    }
   ],
   "source": [
    "results"
   ]
  },
  {
   "cell_type": "code",
   "execution_count": 39,
   "metadata": {},
   "outputs": [
    {
     "data": {
      "text/plain": [
       "array([[0.39649406],\n",
       "       [0.9696023 ],\n",
       "       [0.73515403],\n",
       "       ...,\n",
       "       [0.23465261],\n",
       "       [0.20442146],\n",
       "       [0.4990129 ]], dtype=float32)"
      ]
     },
     "execution_count": 39,
     "metadata": {},
     "output_type": "execute_result"
    }
   ],
   "source": [
    "model.predict(x_test)"
   ]
  },
  {
   "cell_type": "code",
   "execution_count": null,
   "metadata": {},
   "outputs": [],
   "source": []
  }
 ],
 "metadata": {
  "kernelspec": {
   "display_name": "Python 3",
   "language": "python",
   "name": "python3"
  },
  "language_info": {
   "codemirror_mode": {
    "name": "ipython",
    "version": 3
   },
   "file_extension": ".py",
   "mimetype": "text/x-python",
   "name": "python",
   "nbconvert_exporter": "python",
   "pygments_lexer": "ipython3",
   "version": "3.7.0"
  }
 },
 "nbformat": 4,
 "nbformat_minor": 2
}
