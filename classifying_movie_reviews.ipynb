{
 "cells": [
  {
   "cell_type": "code",
   "execution_count": 1,
   "metadata": {},
   "outputs": [
    {
     "name": "stderr",
     "output_type": "stream",
     "text": [
      "Using TensorFlow backend.\n"
     ]
    }
   ],
   "source": [
    "from keras.datasets import imdb\n",
    "(train_data, train_labels), (test_data, test_labels) = imdb.load_data(num_words=10000) #importing and defining train and test data"
   ]
  },
  {
   "cell_type": "code",
   "execution_count": 26,
   "metadata": {},
   "outputs": [],
   "source": [
    "#decode the reviews back into english words\n",
    "word_index = imdb.get_word_index() #dictionnary mapping words to an integer index\n",
    "reverse_word_index = dict([(value, key) for (key, value) in word_index.items()]) #reverses the dictionnary above, i.e. mapping integers to words\n",
    "def decoded(x): #decoding function for the review x\n",
    "    print(' '.join([reverse_word_index.get(i-3,'?') for i in train_data[x]])) #decodes the review, i-3 not entirely clear!\n",
    "    return"
   ]
  },
  {
   "cell_type": "code",
   "execution_count": 27,
   "metadata": {},
   "outputs": [
    {
     "name": "stdout",
     "output_type": "stream",
     "text": [
      "? this film was just brilliant casting location scenery story direction everyone's really suited the part they played and you could just imagine being there robert ? is an amazing actor and now the same being director ? father came from the same scottish island as myself so i loved the fact there was a real connection with this film the witty remarks throughout the film were great it was just brilliant so much that i bought the film as soon as it was released for ? and would recommend it to everyone to watch and the fly fishing was amazing really cried at the end it was so sad and you know what they say if you cry at a film it must have been good and this definitely was also ? to the two little boy's that played the ? of norman and paul they were just brilliant children are often left out of the ? list i think because the stars that play them all grown up are such a big profile for the whole film but these children are amazing and should be praised for what they have done don't you think the whole story was so lovely because it was true and was someone's life after all that was shared with us all\n"
     ]
    }
   ],
   "source": [
    "reverse_word_index[train_data[0][0]]\n",
    "decoded(0)"
   ]
  },
  {
   "cell_type": "code",
   "execution_count": 3,
   "metadata": {},
   "outputs": [],
   "source": [
    "#Preparing our data for a neural network, i.e. convert into tensors\n",
    "import numpy as np\n",
    "def vectorize_sequences(sequences, dimension=10000): #not entirely clear!\n",
    "    results = np.zeros((len(sequences), dimension)) #all zero matrix of shape(len(sequences),dimension)\n",
    "    for i, sequence in enumerate(sequences):\n",
    "        results[i, sequence] = 1. #set specific indices of results[i] to 1\n",
    "    return results\n",
    "\n",
    "#vectorize labels\n",
    "x_train = vectorize_sequences(train_data) #vectorized training data\n",
    "x_test = vectorize_sequences(test_data) #vectorized test data\n",
    "\n",
    "#vectorize labels\n",
    "y_train = np.asarray(train_labels).astype('float32') #vectorized training labels\n",
    "y_test = np.asarray(test_labels).astype('float32') #vectorized test labels"
   ]
  },
  {
   "cell_type": "code",
   "execution_count": 5,
   "metadata": {},
   "outputs": [],
   "source": [
    "#defining the model\n",
    "#not entirely clear, but will be explained later\n",
    "from tensorflow.keras import models #without writing tensorflow. an error occurs!\n",
    "from tensorflow.keras import layers #without writing tensorflow. an error occurs!\n",
    "\n",
    "model = models.Sequential()\n",
    "model.add(layers.Dense(16, activation='relu', input_shape=(10000,)))\n",
    "model.add(layers.Dense(16, activation='relu'))\n",
    "model.add(layers.Dense(1, activation='sigmoid'))"
   ]
  },
  {
   "cell_type": "code",
   "execution_count": 6,
   "metadata": {},
   "outputs": [],
   "source": [
    "#setting aside a validation set\n",
    "x_val = x_train[:10000]\n",
    "partial_x_train = x_train[10000:]\n",
    "y_val = y_train[:10000]\n",
    "partial_y_train = y_train[10000:]"
   ]
  },
  {
   "cell_type": "code",
   "execution_count": 7,
   "metadata": {},
   "outputs": [
    {
     "name": "stdout",
     "output_type": "stream",
     "text": [
      "Train on 15000 samples, validate on 10000 samples\n",
      "Epoch 1/20\n",
      "15000/15000 [==============================] - 3s 185us/sample - loss: 0.5710 - acc: 0.7808 - val_loss: 0.4603 - val_acc: 0.8659\n",
      "Epoch 2/20\n",
      "15000/15000 [==============================] - 2s 145us/sample - loss: 0.3731 - acc: 0.8947 - val_loss: 0.3468 - val_acc: 0.8783\n",
      "Epoch 3/20\n",
      "15000/15000 [==============================] - 2s 147us/sample - loss: 0.2688 - acc: 0.9184 - val_loss: 0.2952 - val_acc: 0.8898\n",
      "Epoch 4/20\n",
      "15000/15000 [==============================] - 2s 147us/sample - loss: 0.2107 - acc: 0.9341 - val_loss: 0.2811 - val_acc: 0.8887\n",
      "Epoch 5/20\n",
      "15000/15000 [==============================] - 2s 148us/sample - loss: 0.1714 - acc: 0.9460 - val_loss: 0.2868 - val_acc: 0.8841\n",
      "Epoch 6/20\n",
      "15000/15000 [==============================] - 2s 148us/sample - loss: 0.1425 - acc: 0.9557 - val_loss: 0.2783 - val_acc: 0.8882\n",
      "Epoch 7/20\n",
      "15000/15000 [==============================] - 2s 148us/sample - loss: 0.1211 - acc: 0.9637 - val_loss: 0.2878 - val_acc: 0.8867\n",
      "Epoch 8/20\n",
      "15000/15000 [==============================] - 2s 149us/sample - loss: 0.1004 - acc: 0.9709 - val_loss: 0.3034 - val_acc: 0.8835\n",
      "Epoch 9/20\n",
      "15000/15000 [==============================] - 2s 149us/sample - loss: 0.0842 - acc: 0.9769 - val_loss: 0.3402 - val_acc: 0.8810\n",
      "Epoch 10/20\n",
      "15000/15000 [==============================] - 2s 149us/sample - loss: 0.0729 - acc: 0.9810 - val_loss: 0.3412 - val_acc: 0.8808\n",
      "Epoch 11/20\n",
      "15000/15000 [==============================] - 3s 170us/sample - loss: 0.0595 - acc: 0.9855 - val_loss: 0.3823 - val_acc: 0.8713\n",
      "Epoch 12/20\n",
      "15000/15000 [==============================] - 2s 163us/sample - loss: 0.0491 - acc: 0.9878 - val_loss: 0.3869 - val_acc: 0.8776\n",
      "Epoch 13/20\n",
      "15000/15000 [==============================] - 2s 148us/sample - loss: 0.0418 - acc: 0.9902 - val_loss: 0.4134 - val_acc: 0.8777\n",
      "Epoch 14/20\n",
      "15000/15000 [==============================] - 2s 148us/sample - loss: 0.0343 - acc: 0.9927 - val_loss: 0.4387 - val_acc: 0.8742\n",
      "Epoch 15/20\n",
      "15000/15000 [==============================] - 2s 149us/sample - loss: 0.0276 - acc: 0.9953 - val_loss: 0.4743 - val_acc: 0.8748\n",
      "Epoch 16/20\n",
      "15000/15000 [==============================] - 2s 149us/sample - loss: 0.0209 - acc: 0.9967 - val_loss: 0.5134 - val_acc: 0.8701\n",
      "Epoch 17/20\n",
      "15000/15000 [==============================] - 2s 149us/sample - loss: 0.0173 - acc: 0.9977 - val_loss: 0.5389 - val_acc: 0.8689\n",
      "Epoch 18/20\n",
      "15000/15000 [==============================] - 2s 149us/sample - loss: 0.0152 - acc: 0.9974 - val_loss: 0.5718 - val_acc: 0.8671\n",
      "Epoch 19/20\n",
      "15000/15000 [==============================] - 2s 149us/sample - loss: 0.0098 - acc: 0.9992 - val_loss: 0.6077 - val_acc: 0.8700\n",
      "Epoch 20/20\n",
      "15000/15000 [==============================] - 2s 160us/sample - loss: 0.0077 - acc: 0.9994 - val_loss: 0.6448 - val_acc: 0.8650\n"
     ]
    }
   ],
   "source": [
    "#training the model\n",
    "#not entirely clear\n",
    "model.compile(optimizer='rmsprop', loss='binary_crossentropy', metrics=['acc'])\n",
    "history = model.fit(partial_x_train, partial_y_train, epochs=20, batch_size=512, validation_data=(x_val, y_val))"
   ]
  },
  {
   "cell_type": "code",
   "execution_count": 8,
   "metadata": {},
   "outputs": [
    {
     "data": {
      "text/plain": [
       "dict_keys(['loss', 'acc', 'val_loss', 'val_acc'])"
      ]
     },
     "execution_count": 8,
     "metadata": {},
     "output_type": "execute_result"
    }
   ],
   "source": [
    "history_dict = history.history\n",
    "history_dict.keys()"
   ]
  },
  {
   "cell_type": "code",
   "execution_count": 10,
   "metadata": {},
   "outputs": [
    {
     "name": "stdout",
     "output_type": "stream",
     "text": [
      "range(1, 21)\n"
     ]
    },
    {
     "data": {
      "image/png": "[encoded data removed]",
      "text/plain": [
       "<Figure size 432x288 with 1 Axes>"
      ]
     },
     "metadata": {
      "needs_background": "light"
     },
     "output_type": "display_data"
    }
   ],
   "source": [
    "#Plotting the training and validation loss\n",
    "import matplotlib.pyplot as plt\n",
    "\n",
    "history_dict = history.history\n",
    "loss_values = history_dict['loss']\n",
    "val_loss_values = history_dict['val_loss']\n",
    "acc = history_dict['acc']\n",
    "\n",
    "epochs = range(1, len(acc) + 1)\n",
    "print(epochs)\n",
    "\n",
    "plt.plot(epochs, loss_values, 'bo', label='Training loss') #bo means blue dot\n",
    "plt.plot(epochs, val_loss_values, 'b', label='Validation loss') #b means blue line\n",
    "plt.title('Training and validation loss')\n",
    "plt.xlabel('Epochs')\n",
    "plt.ylabel('Loss')\n",
    "plt.legend()\n",
    "\n",
    "plt.show()"
   ]
  },
  {
   "cell_type": "code",
   "execution_count": 11,
   "metadata": {},
   "outputs": [
    {
     "data": {
      "image/png": "[encoded data removed]",
      "text/plain": [
       "<Figure size 432x288 with 1 Axes>"
      ]
     },
     "metadata": {
      "needs_background": "light"
     },
     "output_type": "display_data"
    }
   ],
   "source": [
    "#Plotting the training and validation accuracy\n",
    "plt.clf() #clearing the figure\n",
    "acc_values = history_dict['acc']\n",
    "val_acc_values = history_dict['val_acc']\n",
    "\n",
    "plt.plot(epochs, acc, 'bo', label='Training acc')\n",
    "plt.plot(epochs, val_acc_values, 'b', label='Validation acc')\n",
    "plt.title('Training and validation accuracy')\n",
    "plt.xlabel('Epochs')\n",
    "plt.ylabel('Loss')\n",
    "plt.legend()\n",
    "\n",
    "plt.show()\n"
   ]
  },
  {
   "cell_type": "code",
   "execution_count": 20,
   "metadata": {},
   "outputs": [
    {
     "name": "stdout",
     "output_type": "stream",
     "text": [
      "Epoch 1/4\n",
      "25000/25000 [==============================] - 3s 105us/sample - loss: 0.4686 - accuracy: 0.8259\n",
      "Epoch 2/4\n",
      "25000/25000 [==============================] - 2s 98us/sample - loss: 0.2659 - accuracy: 0.9054\n",
      "Epoch 3/4\n",
      "25000/25000 [==============================] - 3s 102us/sample - loss: 0.2045 - accuracy: 0.9266\n",
      "Epoch 4/4\n",
      "25000/25000 [==============================] - 3s 102us/sample - loss: 0.1715 - accuracy: 0.9383\n",
      "25000/25000 [==============================] - 2s 92us/sample - loss: 0.2965 - accuracy: 0.8826\n"
     ]
    }
   ],
   "source": [
    "#retraining the model\n",
    "\n",
    "model = models.Sequential()\n",
    "model.add(layers.Dense(16, activation='relu', input_shape=(10000,)))\n",
    "model.add(layers.Dense(16, activation='relu'))\n",
    "model.add(layers.Dense(1, activation='sigmoid'))\n",
    "\n",
    "model.compile(optimizer='rmsprop', loss='binary_crossentropy', metrics=['accuracy'])\n",
    "\n",
    "model.fit(x_train, y_train, epochs=4, batch_size=512)\n",
    "results = model.evaluate(x_test, y_test)"
   ]
  },
  {
   "cell_type": "code",
   "execution_count": 13,
   "metadata": {},
   "outputs": [
    {
     "data": {
      "text/plain": [
       "[0.45637544319152834, 0.86072]"
      ]
     },
     "execution_count": 13,
     "metadata": {},
     "output_type": "execute_result"
    }
   ],
   "source": [
    "results"
   ]
  },
  {
   "cell_type": "code",
   "execution_count": null,
   "metadata": {},
   "outputs": [],
   "source": []
  }
 ],
 "metadata": {
  "kernelspec": {
   "display_name": "Python 3",
   "language": "python",
   "name": "python3"
  },
  "language_info": {
   "codemirror_mode": {
    "name": "ipython",
    "version": 3
   },
   "file_extension": ".py",
   "mimetype": "text/x-python",
   "name": "python",
   "nbconvert_exporter": "python",
   "pygments_lexer": "ipython3",
   "version": "3.7.0"
  }
 },
 "nbformat": 4,
 "nbformat_minor": 2
}
