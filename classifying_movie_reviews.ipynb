{
 "cells": [
  {
   "cell_type": "code",
   "execution_count": 30,
   "metadata": {},
   "outputs": [],
   "source": [
    "from keras.datasets import imdb\n",
    "(train_data, train_labels), (test_data, test_labels) = imdb.load_data(num_words=10000) #importing and defining train and test data"
   ]
  },
  {
   "cell_type": "code",
   "execution_count": 31,
   "metadata": {},
   "outputs": [],
   "source": [
    "#decode the reviews back into english words\n",
    "word_index = imdb.get_word_index() #dictionnary mapping words to an integer index\n",
    "reverse_word_index = dict([(value, key) for (key, value) in word_index.items()]) #reverses the dictionnary above, i.e. mapping integers to words\n",
    "def decoded(x): #decoding function for the review x\n",
    "    print(''.join([reverse_word_index.get(i-3,'?') for i in train_data[x]])) #decodes the review, i-3 not entirely clear!\n",
    "    return"
   ]
  },
  {
   "cell_type": "code",
   "execution_count": 44,
   "metadata": {},
   "outputs": [],
   "source": [
    "#Preparing our data for a neural network, i.e. convert into tensors\n",
    "import numpy as np\n",
    "def vectorize_sequences(sequences, dimension=10000): #not entirely clear!\n",
    "    results = np.zeros((len(sequences), dimension)) #all zero matrix of shape(len(sequences),dimension)\n",
    "    for i, sequence in enumerate(sequences):\n",
    "        results[i, sequence] = 1. #set specific indices of results[i] to 1\n",
    "    return results\n",
    "\n",
    "#vectorize labels\n",
    "x_train = vectorize_sequences(train_data) #vectorized training data\n",
    "x_test = vectorize_sequences(test_data) #vectorized test data\n",
    "\n",
    "#vectorize labels\n",
    "y_train = np.asarray(train_labels).astype('float32') #vectorized training labels\n",
    "y_test = np.asarray(test_labels).astype('float32') #“ectorized test labels"
   ]
  },
  {
   "cell_type": "code",
   "execution_count": 52,
   "metadata": {},
   "outputs": [],
   "source": [
    "#defining the model\n",
    "#not entirely clear, but will be explained later\n",
    "from tensorflow.keras import models #without writing tensorflow. an error occurs!\n",
    "from tensorflow.keras import layers #without writing tensorflow. an error occurs!\n",
    "\n",
    "model = models.Sequential()\n",
    "model.add(layers.Dense(16, activation='relu', input_shape=(10000,)))\n",
    "model.add(layers.Dense(16, activation='relu'))\n",
    "model.add(layers.Dense(1, activation='sigmoid'))"
   ]
  },
  {
   "cell_type": "code",
   "execution_count": 53,
   "metadata": {},
   "outputs": [],
   "source": [
    "#compiling the model\n",
    "#no idea about the rmsprop optimizer and what the metrics is about\n",
    "model.compile(optimizer='rmsprop', loss='binary_crossentropy', metrics = ['accuracy'])"
   ]
  },
  {
   "cell_type": "code",
   "execution_count": 61,
   "metadata": {},
   "outputs": [],
   "source": [
    "#setting aside a validation set\n",
    "x_val = x_train[:10000]\n",
    "partial_x_train = x_train[10000:]\n",
    "y_val = y_train[:10000]\n",
    "partial_y_train = y_train[10000:]"
   ]
  },
  {
   "cell_type": "code",
   "execution_count": 82,
   "metadata": {},
   "outputs": [
    {
     "name": "stdout",
     "output_type": "stream",
     "text": [
      "Train on 15000 samples, validate on 10000 samples\n",
      "Epoch 1/20\n",
      "15000/15000 [==============================] - 2s 159us/sample - loss: 1.8240e-08 - acc: 1.0000 - val_loss: 2.2487 - val_acc: 0.8564\n",
      "Epoch 2/20\n",
      "15000/15000 [==============================] - 2s 162us/sample - loss: 1.5403e-08 - acc: 1.0000 - val_loss: 2.2715 - val_acc: 0.8557\n",
      "Epoch 3/20\n",
      "15000/15000 [==============================] - 2s 145us/sample - loss: 1.3294e-08 - acc: 1.0000 - val_loss: 2.2893 - val_acc: 0.8562\n",
      "Epoch 4/20\n",
      "15000/15000 [==============================] - 2s 147us/sample - loss: 1.1679e-08 - acc: 1.0000 - val_loss: 2.3080 - val_acc: 0.8559\n",
      "Epoch 5/20\n",
      "15000/15000 [==============================] - 2s 147us/sample - loss: 1.0412e-08 - acc: 1.0000 - val_loss: 2.3230 - val_acc: 0.8559\n",
      "Epoch 6/20\n",
      "15000/15000 [==============================] - 2s 147us/sample - loss: 9.3579e-09 - acc: 1.0000 - val_loss: 2.3358 - val_acc: 0.8566\n",
      "Epoch 7/20\n",
      "15000/15000 [==============================] - 2s 146us/sample - loss: 8.4913e-09 - acc: 1.0000 - val_loss: 2.3483 - val_acc: 0.8568\n",
      "Epoch 8/20\n",
      "15000/15000 [==============================] - 2s 154us/sample - loss: 7.7639e-09 - acc: 1.0000 - val_loss: 2.3615 - val_acc: 0.8562\n",
      "Epoch 9/20\n",
      "15000/15000 [==============================] - 2s 148us/sample - loss: 7.1486e-09 - acc: 1.0000 - val_loss: 2.3726 - val_acc: 0.8563\n",
      "Epoch 10/20\n",
      "15000/15000 [==============================] - 2s 148us/sample - loss: 6.6155e-09 - acc: 1.0000 - val_loss: 2.3835 - val_acc: 0.8564\n",
      "Epoch 11/20\n",
      "15000/15000 [==============================] - 2s 147us/sample - loss: 6.1518e-09 - acc: 1.0000 - val_loss: 2.3928 - val_acc: 0.8566\n",
      "Epoch 12/20\n",
      "15000/15000 [==============================] - 2s 147us/sample - loss: 5.7476e-09 - acc: 1.0000 - val_loss: 2.4014 - val_acc: 0.8567\n",
      "Epoch 13/20\n",
      "15000/15000 [==============================] - 2s 147us/sample - loss: 5.3829e-09 - acc: 1.0000 - val_loss: 2.4118 - val_acc: 0.8563\n",
      "Epoch 14/20\n",
      "15000/15000 [==============================] - 2s 146us/sample - loss: 5.0686e-09 - acc: 1.0000 - val_loss: 2.4197 - val_acc: 0.8562\n",
      "Epoch 15/20\n",
      "15000/15000 [==============================] - 2s 147us/sample - loss: 4.7748e-09 - acc: 1.0000 - val_loss: 2.4274 - val_acc: 0.8562\n",
      "Epoch 16/20\n",
      "15000/15000 [==============================] - 2s 147us/sample - loss: 4.5301e-09 - acc: 1.0000 - val_loss: 2.4351 - val_acc: 0.8562\n",
      "Epoch 17/20\n",
      "15000/15000 [==============================] - 2s 147us/sample - loss: 4.3045e-09 - acc: 1.0000 - val_loss: 2.4425 - val_acc: 0.8564\n",
      "Epoch 18/20\n",
      "15000/15000 [==============================] - 2s 146us/sample - loss: 4.0906e-09 - acc: 1.0000 - val_loss: 2.4487 - val_acc: 0.8568\n",
      "Epoch 19/20\n",
      "15000/15000 [==============================] - 2s 146us/sample - loss: 3.8948e-09 - acc: 1.0000 - val_loss: 2.4557 - val_acc: 0.8564\n",
      "Epoch 20/20\n",
      "15000/15000 [==============================] - 2s 147us/sample - loss: 3.7206e-09 - acc: 1.0000 - val_loss: 2.4617 - val_acc: 0.8568\n"
     ]
    }
   ],
   "source": [
    "#training the model\n",
    "model.compile(optimizer='rmsprop', loss='binary_crossentropy', metrics=['acc'])\n",
    "history = model.fit(partial_x_train, partial_y_train, epochs=20, batch_size=512, validation_data=(x_val, y_val))"
   ]
  },
  {
   "cell_type": "code",
   "execution_count": 72,
   "metadata": {},
   "outputs": [
    {
     "data": {
      "text/plain": [
       "dict_keys(['loss', 'acc', 'val_loss', 'val_acc'])"
      ]
     },
     "execution_count": 72,
     "metadata": {},
     "output_type": "execute_result"
    }
   ],
   "source": [
    "history_dict = history.history\n",
    "history_dict.keys() #not entirely clear"
   ]
  },
  {
   "cell_type": "code",
   "execution_count": 97,
   "metadata": {},
   "outputs": [
    {
     "name": "stdout",
     "output_type": "stream",
     "text": [
      "range(1, 21)\n"
     ]
    },
    {
     "data": {
      "image/png": "[encoded data removed]",
      "text/plain": [
       "<Figure size 432x288 with 1 Axes>"
      ]
     },
     "metadata": {
      "needs_background": "light"
     },
     "output_type": "display_data"
    }
   ],
   "source": [
    "#Plotting the training and validation loss\n",
    "import matplotlib.pyplot as plt\n",
    "\n",
    "history_dict = history.history\n",
    "loss_values = history_dict['loss']\n",
    "val_loss_values = history_dict['val_loss']\n",
    "acc = history_dict['acc']\n",
    "\n",
    "epochs = range(1, len(acc) + 1)\n",
    "print(epochs)\n",
    "\n",
    "plt.plot(epochs, loss_values, 'bo', label='Training loss') #bo means blue dot\n",
    "plt.plot(epochs, val_loss_values, 'b', label='Validation loss') #b means blue line\n",
    "plt.title('Training and validation loss')\n",
    "plt.xlabel('Epochs')\n",
    "plt.ylabel('Loss')\n",
    "plt.legend()\n",
    "\n",
    "plt.show()"
   ]
  },
  {
   "cell_type": "code",
   "execution_count": 94,
   "metadata": {},
   "outputs": [
    {
     "data": {
      "image/png": "[encoded data removed]",
      "text/plain": [
       "<Figure size 432x288 with 1 Axes>"
      ]
     },
     "metadata": {
      "needs_background": "light"
     },
     "output_type": "display_data"
    }
   ],
   "source": [
    "#Plotting the training and validation accuracy\n",
    "plt.clf() #clearing the figure\n",
    "acc_values = history_dict['acc']\n",
    "val_acc_values = history_dict['val_acc']\n",
    "\n",
    "plt.plot(epochs, acc, 'bo', label='Training acc')\n",
    "plt.plot(epochs, val_acc_values, 'b', label='Validation acc')\n",
    "plt.title('Training and validation accuracy')\n",
    "plt.xlabel('Epochs')\n",
    "plt.ylabel('Loss')\n",
    "plt.legend()\n",
    "\n",
    "plt.show()\n"
   ]
  },
  {
   "cell_type": "code",
   "execution_count": null,
   "metadata": {},
   "outputs": [],
   "source": []
  }
 ],
 "metadata": {
  "kernelspec": {
   "display_name": "Python 3",
   "language": "python",
   "name": "python3"
  },
  "language_info": {
   "codemirror_mode": {
    "name": "ipython",
    "version": 3
   },
   "file_extension": ".py",
   "mimetype": "text/x-python",
   "name": "python",
   "nbconvert_exporter": "python",
   "pygments_lexer": "ipython3",
   "version": "3.7.0"
  }
 },
 "nbformat": 4,
 "nbformat_minor": 2
}
